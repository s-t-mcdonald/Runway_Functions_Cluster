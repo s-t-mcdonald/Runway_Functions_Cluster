{
 "cells": [
  {
   "cell_type": "code",
   "execution_count": 26,
   "id": "84222196",
   "metadata": {},
   "outputs": [],
   "source": [
    "import seaborn as sns\n",
    "import pandas as pd\n",
    "import numpy as np\n",
    "\n",
    "from sklearn.metrics import accuracy_score\n",
    "from sklearn.metrics import log_loss"
   ]
  },
  {
   "cell_type": "code",
   "execution_count": 6,
   "id": "806dec5e",
   "metadata": {},
   "outputs": [],
   "source": [
    "param_array = pd.read_csv(\"parameters/parameter_array.csv\").set_index(\"PARAM\")"
   ]
  },
  {
   "cell_type": "code",
   "execution_count": 11,
   "id": "48ab137a",
   "metadata": {},
   "outputs": [
    {
     "data": {
      "text/plain": [
       "Int64Index([  1,   2,   3,   4,   5,   6,   7,   8,   9,  10,\n",
       "            ...\n",
       "            711, 712, 713, 714, 715, 716, 717, 718, 719, 720],\n",
       "           dtype='int64', name='PARAM', length=720)"
      ]
     },
     "execution_count": 11,
     "metadata": {},
     "output_type": "execute_result"
    }
   ],
   "source": [
    "param_array.index"
   ]
  },
  {
   "cell_type": "code",
   "execution_count": 29,
   "id": "bd887eff",
   "metadata": {},
   "outputs": [],
   "source": [
    "for param in [11]:\n",
    "    \n",
    "    y_train = np.genfromtxt(f\"Results/Result_{param}/y_train_truth.csv\", delimiter=',')\n",
    "    y_val = np.genfromtxt(f\"Results/Result_{param}/y_val_truth.csv\", delimiter=',')\n",
    "    y_test = np.genfromtxt(f\"Results/Result_{param}/y_test_truth.csv\", delimiter=',')\n",
    "\n",
    "    train_pred = np.genfromtxt(f\"Results/Result_{param}/y_train_pred.csv\", delimiter=',')\n",
    "    val_pred = np.genfromtxt(f\"Results/Result_{param}/y_val_pred.csv\", delimiter=',')\n",
    "    test_pred = np.genfromtxt(f\"Results/Result_{param}/y_test_pred.csv\", delimiter=',')\n",
    "    \n",
    "    train_loss = log_loss(y_train.flatten(), train_pred.flatten())\n",
    "    val_loss = log_loss(y_val.flatten(), val_pred.flatten())\n",
    "    test_loss = log_loss(y_test.flatten(), test_pred.flatten())\n",
    "    \n",
    "    train_accuracy = accuracy_score(np.argmax(y_train,axis=1), np.argmax(train_pred,axis=1))\n",
    "    val_accuracy = accuracy_score(np.argmax(y_val,axis=1), np.argmax(val_pred,axis=1))\n",
    "    test_accuracy = accuracy_score(np.argmax(y_test,axis=1), np.argmax(test_pred,axis=1))"
   ]
  },
  {
   "cell_type": "code",
   "execution_count": 24,
   "id": "cff9c0cf",
   "metadata": {},
   "outputs": [
    {
     "data": {
      "text/plain": [
       "(7428, 27)"
      ]
     },
     "execution_count": 24,
     "metadata": {},
     "output_type": "execute_result"
    }
   ],
   "source": [
    "train_pred.shape"
   ]
  },
  {
   "cell_type": "code",
   "execution_count": null,
   "id": "05543083",
   "metadata": {},
   "outputs": [],
   "source": []
  }
 ],
 "metadata": {
  "kernelspec": {
   "display_name": "Python [conda env:root] *",
   "language": "python",
   "name": "conda-root-py"
  },
  "language_info": {
   "codemirror_mode": {
    "name": "ipython",
    "version": 3
   },
   "file_extension": ".py",
   "mimetype": "text/x-python",
   "name": "python",
   "nbconvert_exporter": "python",
   "pygments_lexer": "ipython3",
   "version": "3.9.13"
  }
 },
 "nbformat": 4,
 "nbformat_minor": 5
}
