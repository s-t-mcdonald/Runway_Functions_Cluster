{
 "cells": [
  {
   "cell_type": "code",
   "execution_count": 1,
   "id": "f2ce0639",
   "metadata": {},
   "outputs": [
    {
     "name": "stderr",
     "output_type": "stream",
     "text": [
      "/Users/spencer/opt/anaconda3/envs/nasa-comp/lib/python3.8/site-packages/xgboost/compat.py:36: FutureWarning: pandas.Int64Index is deprecated and will be removed from pandas in a future version. Use pandas.Index with the appropriate dtype instead.\n",
      "  from pandas import MultiIndex, Int64Index\n"
     ]
    }
   ],
   "source": [
    "import pandas as pd\n",
    "import numpy as np\n",
    "import datetime\n",
    "\n",
    "from src.const import *\n",
    "from src.feature_processing_functions import *\n",
    "# from src.helpers import get_file_path\n",
    "\n",
    "from src.data_processing_pipeline import process_data\n",
    "from src.submodel_pipeline import train_submodels\n",
    "from src.bridge_pipeline import run_bridge_pipeline\n",
    "# from src.nn_pipeline import train_final_model"
   ]
  },
  {
   "cell_type": "markdown",
   "id": "0f538e98",
   "metadata": {},
   "source": [
    "# Define Train, Val, and Test Timestamps\n",
    "\n",
    "### Small sample for illustrative purposes"
   ]
  },
  {
   "cell_type": "code",
   "execution_count": 2,
   "id": "4d9f8623",
   "metadata": {},
   "outputs": [],
   "source": [
    "train_labels_df = ensure_datetime(pd.read_csv(f\"open_train_labels.csv.bz2\"))\n",
    "train_timestamps = sorted(list(train_labels_df['timestamp'].unique()))\n",
    "\n",
    "val_labels_df = ensure_datetime(pd.read_csv(f\"open_submission_format.csv\"))\n",
    "val_timestamps = sorted(list(val_labels_df['timestamp'].unique()))\n",
    "\n",
    "test_labels_df = ensure_datetime(pd.read_csv(f\"evaluation_test_labels.csv\"))\n",
    "test_timestamps = sorted(list(test_labels_df['timestamp'].unique()))"
   ]
  },
  {
   "cell_type": "markdown",
   "id": "4c9f33af",
   "metadata": {},
   "source": [
    "# Process Raw Data"
   ]
  },
  {
   "cell_type": "code",
   "execution_count": 3,
   "id": "e0dba056",
   "metadata": {
    "scrolled": true
   },
   "outputs": [
    {
     "ename": "NameError",
     "evalue": "name 'train_timestamps' is not defined",
     "output_type": "error",
     "traceback": [
      "\u001b[0;31m---------------------------------------------------------------------------\u001b[0m",
      "\u001b[0;31mNameError\u001b[0m                                 Traceback (most recent call last)",
      "Cell \u001b[0;32mIn[3], line 1\u001b[0m\n\u001b[0;32m----> 1\u001b[0m process_data(\u001b[43mtrain_timestamps\u001b[49m, val_timestamps, test_timestamps)\n",
      "\u001b[0;31mNameError\u001b[0m: name 'train_timestamps' is not defined"
     ]
    }
   ],
   "source": [
    "process_data(train_timestamps, val_timestamps, test_timestamps)"
   ]
  },
  {
   "cell_type": "markdown",
   "id": "01a66c67",
   "metadata": {},
   "source": [
    "# Train Submodels"
   ]
  },
  {
   "cell_type": "code",
   "execution_count": null,
   "id": "07ac7af8",
   "metadata": {
    "scrolled": true
   },
   "outputs": [
    {
     "name": "stderr",
     "output_type": "stream",
     "text": [
      "/Users/spencer/opt/anaconda3/envs/nasa-comp/lib/python3.8/site-packages/xgboost/sklearn.py:1224: UserWarning: The use of label encoder in XGBClassifier is deprecated and will be removed in a future release. To remove this warning, do the following: 1) Pass option use_label_encoder=False when constructing XGBClassifier object; and 2) Encode your labels (y) as integers starting with 0, i.e. 0, 1, 2, ..., [num_class - 1].\n",
      "  warnings.warn(label_encoder_deprecation_msg, UserWarning)\n",
      "/Users/spencer/opt/anaconda3/envs/nasa-comp/lib/python3.8/site-packages/xgboost/data.py:262: FutureWarning: pandas.Int64Index is deprecated and will be removed from pandas in a future version. Use pandas.Index with the appropriate dtype instead.\n",
      "  elif isinstance(data.columns, (pd.Int64Index, pd.RangeIndex)):\n"
     ]
    },
    {
     "name": "stdout",
     "output_type": "stream",
     "text": [
      "[0]\tvalidation_0-auc:0.99328\n",
      "[1]\tvalidation_0-auc:0.99512\n",
      "[2]\tvalidation_0-auc:0.99500\n",
      "[3]\tvalidation_0-auc:0.99485\n",
      "[4]\tvalidation_0-auc:0.99516\n",
      "[5]\tvalidation_0-auc:0.99512\n",
      "[6]\tvalidation_0-auc:0.99654\n",
      "[7]\tvalidation_0-auc:0.99671\n",
      "[8]\tvalidation_0-auc:0.99742\n",
      "[9]\tvalidation_0-auc:0.99732\n",
      "[10]\tvalidation_0-auc:0.99725\n",
      "[11]\tvalidation_0-auc:0.99723\n",
      "[12]\tvalidation_0-auc:0.99717\n",
      "[13]\tvalidation_0-auc:0.99718\n",
      "[14]\tvalidation_0-auc:0.99724\n",
      "[15]\tvalidation_0-auc:0.99744\n",
      "[16]\tvalidation_0-auc:0.99763\n",
      "[17]\tvalidation_0-auc:0.99803\n",
      "[18]\tvalidation_0-auc:0.99804\n",
      "[19]\tvalidation_0-auc:0.99811\n",
      "[20]\tvalidation_0-auc:0.99816\n",
      "[21]\tvalidation_0-auc:0.99830\n",
      "[22]\tvalidation_0-auc:0.99838\n",
      "[23]\tvalidation_0-auc:0.99839\n",
      "[24]\tvalidation_0-auc:0.99833\n",
      "[25]\tvalidation_0-auc:0.99850\n",
      "[26]\tvalidation_0-auc:0.99852\n",
      "[27]\tvalidation_0-auc:0.99848\n",
      "[28]\tvalidation_0-auc:0.99840\n",
      "[29]\tvalidation_0-auc:0.99836\n",
      "[30]\tvalidation_0-auc:0.99838\n",
      "[31]\tvalidation_0-auc:0.99826\n",
      "[32]\tvalidation_0-auc:0.99816\n",
      "[33]\tvalidation_0-auc:0.99817\n",
      "[34]\tvalidation_0-auc:0.99821\n",
      "[35]\tvalidation_0-auc:0.99829\n",
      "[36]\tvalidation_0-auc:0.99818\n",
      "26L_departure 1 0.9985145888594165\n"
     ]
    },
    {
     "name": "stderr",
     "output_type": "stream",
     "text": [
      "/Users/spencer/opt/anaconda3/envs/nasa-comp/lib/python3.8/site-packages/xgboost/sklearn.py:1224: UserWarning: The use of label encoder in XGBClassifier is deprecated and will be removed in a future release. To remove this warning, do the following: 1) Pass option use_label_encoder=False when constructing XGBClassifier object; and 2) Encode your labels (y) as integers starting with 0, i.e. 0, 1, 2, ..., [num_class - 1].\n",
      "  warnings.warn(label_encoder_deprecation_msg, UserWarning)\n",
      "/Users/spencer/opt/anaconda3/envs/nasa-comp/lib/python3.8/site-packages/xgboost/data.py:262: FutureWarning: pandas.Int64Index is deprecated and will be removed from pandas in a future version. Use pandas.Index with the appropriate dtype instead.\n",
      "  elif isinstance(data.columns, (pd.Int64Index, pd.RangeIndex)):\n"
     ]
    },
    {
     "name": "stdout",
     "output_type": "stream",
     "text": [
      "[0]\tvalidation_0-auc:0.99177\n",
      "[1]\tvalidation_0-auc:0.99197\n",
      "[2]\tvalidation_0-auc:0.99229\n",
      "[3]\tvalidation_0-auc:0.99219\n",
      "[4]\tvalidation_0-auc:0.99215\n",
      "[5]\tvalidation_0-auc:0.99207\n",
      "[6]\tvalidation_0-auc:0.99194\n",
      "[7]\tvalidation_0-auc:0.99184\n",
      "[8]\tvalidation_0-auc:0.99162\n",
      "[9]\tvalidation_0-auc:0.99097\n",
      "[10]\tvalidation_0-auc:0.99078\n",
      "[11]\tvalidation_0-auc:0.99056\n",
      "28_departure 1 0.9922903123513558\n"
     ]
    },
    {
     "name": "stderr",
     "output_type": "stream",
     "text": [
      "/Users/spencer/opt/anaconda3/envs/nasa-comp/lib/python3.8/site-packages/xgboost/sklearn.py:1224: UserWarning: The use of label encoder in XGBClassifier is deprecated and will be removed in a future release. To remove this warning, do the following: 1) Pass option use_label_encoder=False when constructing XGBClassifier object; and 2) Encode your labels (y) as integers starting with 0, i.e. 0, 1, 2, ..., [num_class - 1].\n",
      "  warnings.warn(label_encoder_deprecation_msg, UserWarning)\n",
      "/Users/spencer/opt/anaconda3/envs/nasa-comp/lib/python3.8/site-packages/xgboost/data.py:262: FutureWarning: pandas.Int64Index is deprecated and will be removed from pandas in a future version. Use pandas.Index with the appropriate dtype instead.\n",
      "  elif isinstance(data.columns, (pd.Int64Index, pd.RangeIndex)):\n"
     ]
    },
    {
     "name": "stdout",
     "output_type": "stream",
     "text": [
      "[0]\tvalidation_0-auc:0.93252\n",
      "[1]\tvalidation_0-auc:0.93227\n",
      "[2]\tvalidation_0-auc:0.93218\n",
      "[3]\tvalidation_0-auc:0.93222\n",
      "[4]\tvalidation_0-auc:0.93222\n",
      "[5]\tvalidation_0-auc:0.93197\n",
      "[6]\tvalidation_0-auc:0.93192\n",
      "[7]\tvalidation_0-auc:0.93145\n",
      "[8]\tvalidation_0-auc:0.93158\n",
      "[9]\tvalidation_0-auc:0.93150\n",
      "[10]\tvalidation_0-auc:0.92983\n",
      "27L_departure 1 0.9325213675213676\n"
     ]
    },
    {
     "name": "stderr",
     "output_type": "stream",
     "text": [
      "/Users/spencer/opt/anaconda3/envs/nasa-comp/lib/python3.8/site-packages/xgboost/sklearn.py:1224: UserWarning: The use of label encoder in XGBClassifier is deprecated and will be removed in a future release. To remove this warning, do the following: 1) Pass option use_label_encoder=False when constructing XGBClassifier object; and 2) Encode your labels (y) as integers starting with 0, i.e. 0, 1, 2, ..., [num_class - 1].\n",
      "  warnings.warn(label_encoder_deprecation_msg, UserWarning)\n",
      "/Users/spencer/opt/anaconda3/envs/nasa-comp/lib/python3.8/site-packages/xgboost/data.py:262: FutureWarning: pandas.Int64Index is deprecated and will be removed from pandas in a future version. Use pandas.Index with the appropriate dtype instead.\n",
      "  elif isinstance(data.columns, (pd.Int64Index, pd.RangeIndex)):\n"
     ]
    },
    {
     "name": "stdout",
     "output_type": "stream",
     "text": [
      "[0]\tvalidation_0-auc:0.99213\n",
      "[1]\tvalidation_0-auc:0.99219\n",
      "[2]\tvalidation_0-auc:0.99472\n",
      "[3]\tvalidation_0-auc:0.99537\n",
      "[4]\tvalidation_0-auc:0.99544\n",
      "[5]\tvalidation_0-auc:0.99530\n",
      "[6]\tvalidation_0-auc:0.99685\n",
      "[7]\tvalidation_0-auc:0.99780\n",
      "[8]\tvalidation_0-auc:0.99784\n",
      "[9]\tvalidation_0-auc:0.99774\n",
      "[10]\tvalidation_0-auc:0.99770\n",
      "[11]\tvalidation_0-auc:0.99762\n",
      "[12]\tvalidation_0-auc:0.99781\n",
      "[13]\tvalidation_0-auc:0.99783\n",
      "[14]\tvalidation_0-auc:0.99789\n",
      "[15]\tvalidation_0-auc:0.99789\n",
      "[16]\tvalidation_0-auc:0.99792\n",
      "[17]\tvalidation_0-auc:0.99792\n",
      "[18]\tvalidation_0-auc:0.99792\n",
      "[19]\tvalidation_0-auc:0.99820\n",
      "[20]\tvalidation_0-auc:0.99813\n",
      "[21]\tvalidation_0-auc:0.99806\n",
      "[22]\tvalidation_0-auc:0.99795\n",
      "[23]\tvalidation_0-auc:0.99799\n",
      "[24]\tvalidation_0-auc:0.99790\n",
      "[25]\tvalidation_0-auc:0.99789\n",
      "[26]\tvalidation_0-auc:0.99782\n",
      "[27]\tvalidation_0-auc:0.99777\n",
      "[28]\tvalidation_0-auc:0.99775\n",
      "[29]\tvalidation_0-auc:0.99778\n",
      "8R_departure 1 0.9982027662366062\n"
     ]
    },
    {
     "name": "stderr",
     "output_type": "stream",
     "text": [
      "/Users/spencer/opt/anaconda3/envs/nasa-comp/lib/python3.8/site-packages/xgboost/sklearn.py:1224: UserWarning: The use of label encoder in XGBClassifier is deprecated and will be removed in a future release. To remove this warning, do the following: 1) Pass option use_label_encoder=False when constructing XGBClassifier object; and 2) Encode your labels (y) as integers starting with 0, i.e. 0, 1, 2, ..., [num_class - 1].\n",
      "  warnings.warn(label_encoder_deprecation_msg, UserWarning)\n",
      "/Users/spencer/opt/anaconda3/envs/nasa-comp/lib/python3.8/site-packages/xgboost/data.py:262: FutureWarning: pandas.Int64Index is deprecated and will be removed from pandas in a future version. Use pandas.Index with the appropriate dtype instead.\n",
      "  elif isinstance(data.columns, (pd.Int64Index, pd.RangeIndex)):\n"
     ]
    },
    {
     "name": "stdout",
     "output_type": "stream",
     "text": [
      "[0]\tvalidation_0-auc:nan\n",
      "[1]\tvalidation_0-auc:nan\n",
      "[2]\tvalidation_0-auc:nan\n",
      "[3]\tvalidation_0-auc:nan\n",
      "[4]\tvalidation_0-auc:nan\n",
      "[5]\tvalidation_0-auc:nan\n",
      "[6]\tvalidation_0-auc:nan\n",
      "[7]\tvalidation_0-auc:nan\n",
      "[8]\tvalidation_0-auc:nan\n",
      "[9]\tvalidation_0-auc:nan\n",
      "[10]\tvalidation_0-auc:nan\n",
      "8L_departure 1 nan\n"
     ]
    },
    {
     "name": "stderr",
     "output_type": "stream",
     "text": [
      "/Users/spencer/opt/anaconda3/envs/nasa-comp/lib/python3.8/site-packages/sklearn/metrics/_ranking.py:1016: UndefinedMetricWarning: No positive samples in y_true, true positive value should be meaningless\n",
      "  warnings.warn(\n",
      "/Users/spencer/opt/anaconda3/envs/nasa-comp/lib/python3.8/site-packages/xgboost/sklearn.py:1224: UserWarning: The use of label encoder in XGBClassifier is deprecated and will be removed in a future release. To remove this warning, do the following: 1) Pass option use_label_encoder=False when constructing XGBClassifier object; and 2) Encode your labels (y) as integers starting with 0, i.e. 0, 1, 2, ..., [num_class - 1].\n",
      "  warnings.warn(label_encoder_deprecation_msg, UserWarning)\n",
      "/Users/spencer/opt/anaconda3/envs/nasa-comp/lib/python3.8/site-packages/xgboost/data.py:262: FutureWarning: pandas.Int64Index is deprecated and will be removed from pandas in a future version. Use pandas.Index with the appropriate dtype instead.\n",
      "  elif isinstance(data.columns, (pd.Int64Index, pd.RangeIndex)):\n"
     ]
    },
    {
     "name": "stdout",
     "output_type": "stream",
     "text": [
      "[0]\tvalidation_0-auc:0.89938\n",
      "[1]\tvalidation_0-auc:0.89938\n",
      "[2]\tvalidation_0-auc:0.89938\n",
      "[3]\tvalidation_0-auc:0.89938\n",
      "[4]\tvalidation_0-auc:0.89938\n",
      "[5]\tvalidation_0-auc:0.89938\n",
      "[6]\tvalidation_0-auc:0.99453\n",
      "[7]\tvalidation_0-auc:0.99342\n",
      "[8]\tvalidation_0-auc:0.99217\n",
      "[9]\tvalidation_0-auc:0.99118\n",
      "[10]\tvalidation_0-auc:0.99279\n",
      "[11]\tvalidation_0-auc:0.98447\n",
      "[12]\tvalidation_0-auc:0.98398\n",
      "[13]\tvalidation_0-auc:0.98199\n",
      "[14]\tvalidation_0-auc:0.98174\n",
      "[15]\tvalidation_0-auc:0.98596\n",
      "[16]\tvalidation_0-auc:0.98447\n",
      "9R_departure 1 0.9945341614906832\n"
     ]
    },
    {
     "name": "stderr",
     "output_type": "stream",
     "text": [
      "/Users/spencer/opt/anaconda3/envs/nasa-comp/lib/python3.8/site-packages/xgboost/sklearn.py:1224: UserWarning: The use of label encoder in XGBClassifier is deprecated and will be removed in a future release. To remove this warning, do the following: 1) Pass option use_label_encoder=False when constructing XGBClassifier object; and 2) Encode your labels (y) as integers starting with 0, i.e. 0, 1, 2, ..., [num_class - 1].\n",
      "  warnings.warn(label_encoder_deprecation_msg, UserWarning)\n",
      "/Users/spencer/opt/anaconda3/envs/nasa-comp/lib/python3.8/site-packages/xgboost/data.py:262: FutureWarning: pandas.Int64Index is deprecated and will be removed from pandas in a future version. Use pandas.Index with the appropriate dtype instead.\n",
      "  elif isinstance(data.columns, (pd.Int64Index, pd.RangeIndex)):\n"
     ]
    },
    {
     "name": "stdout",
     "output_type": "stream",
     "text": [
      "[0]\tvalidation_0-auc:0.99896\n",
      "[1]\tvalidation_0-auc:0.99896\n",
      "[2]\tvalidation_0-auc:0.99889\n",
      "[3]\tvalidation_0-auc:0.99868\n",
      "[4]\tvalidation_0-auc:0.99875\n",
      "[5]\tvalidation_0-auc:0.99875\n",
      "[6]\tvalidation_0-auc:0.99875\n",
      "[7]\tvalidation_0-auc:0.99868\n",
      "[8]\tvalidation_0-auc:0.99868\n",
      "[9]\tvalidation_0-auc:0.99840\n",
      "[10]\tvalidation_0-auc:0.99840\n",
      "10_departure 1 0.9989596337910944\n"
     ]
    },
    {
     "name": "stderr",
     "output_type": "stream",
     "text": [
      "/Users/spencer/opt/anaconda3/envs/nasa-comp/lib/python3.8/site-packages/xgboost/sklearn.py:1224: UserWarning: The use of label encoder in XGBClassifier is deprecated and will be removed in a future release. To remove this warning, do the following: 1) Pass option use_label_encoder=False when constructing XGBClassifier object; and 2) Encode your labels (y) as integers starting with 0, i.e. 0, 1, 2, ..., [num_class - 1].\n",
      "  warnings.warn(label_encoder_deprecation_msg, UserWarning)\n",
      "/Users/spencer/opt/anaconda3/envs/nasa-comp/lib/python3.8/site-packages/xgboost/data.py:262: FutureWarning: pandas.Int64Index is deprecated and will be removed from pandas in a future version. Use pandas.Index with the appropriate dtype instead.\n",
      "  elif isinstance(data.columns, (pd.Int64Index, pd.RangeIndex)):\n"
     ]
    },
    {
     "name": "stdout",
     "output_type": "stream",
     "text": [
      "[0]\tvalidation_0-auc:0.98716\n",
      "[1]\tvalidation_0-auc:0.99181\n",
      "[2]\tvalidation_0-auc:0.99330\n",
      "[3]\tvalidation_0-auc:0.99301\n",
      "[4]\tvalidation_0-auc:0.99306\n",
      "[5]\tvalidation_0-auc:0.99363\n",
      "[6]\tvalidation_0-auc:0.99385\n",
      "[7]\tvalidation_0-auc:0.99364\n",
      "[8]\tvalidation_0-auc:0.99317\n",
      "[9]\tvalidation_0-auc:0.99533\n",
      "[10]\tvalidation_0-auc:0.99539\n",
      "[11]\tvalidation_0-auc:0.99500\n",
      "[12]\tvalidation_0-auc:0.99520\n",
      "[13]\tvalidation_0-auc:0.99565\n",
      "[14]\tvalidation_0-auc:0.99571\n",
      "[15]\tvalidation_0-auc:0.99579\n",
      "[16]\tvalidation_0-auc:0.99543\n",
      "[17]\tvalidation_0-auc:0.99534\n",
      "[18]\tvalidation_0-auc:0.99576\n",
      "[19]\tvalidation_0-auc:0.99537\n",
      "[20]\tvalidation_0-auc:0.99551\n",
      "[21]\tvalidation_0-auc:0.99539\n",
      "[22]\tvalidation_0-auc:0.99539\n",
      "[23]\tvalidation_0-auc:0.99522\n",
      "[24]\tvalidation_0-auc:0.99527\n",
      "27R_departure 1 0.9957853774780713\n"
     ]
    },
    {
     "name": "stderr",
     "output_type": "stream",
     "text": [
      "/Users/spencer/opt/anaconda3/envs/nasa-comp/lib/python3.8/site-packages/xgboost/sklearn.py:1224: UserWarning: The use of label encoder in XGBClassifier is deprecated and will be removed in a future release. To remove this warning, do the following: 1) Pass option use_label_encoder=False when constructing XGBClassifier object; and 2) Encode your labels (y) as integers starting with 0, i.e. 0, 1, 2, ..., [num_class - 1].\n",
      "  warnings.warn(label_encoder_deprecation_msg, UserWarning)\n",
      "/Users/spencer/opt/anaconda3/envs/nasa-comp/lib/python3.8/site-packages/xgboost/data.py:262: FutureWarning: pandas.Int64Index is deprecated and will be removed from pandas in a future version. Use pandas.Index with the appropriate dtype instead.\n",
      "  elif isinstance(data.columns, (pd.Int64Index, pd.RangeIndex)):\n"
     ]
    },
    {
     "name": "stdout",
     "output_type": "stream",
     "text": [
      "[0]\tvalidation_0-auc:0.99070\n",
      "[1]\tvalidation_0-auc:0.99206\n",
      "[2]\tvalidation_0-auc:0.99246\n",
      "[3]\tvalidation_0-auc:0.99196\n",
      "[4]\tvalidation_0-auc:0.99312\n",
      "[5]\tvalidation_0-auc:0.99306\n",
      "[6]\tvalidation_0-auc:0.99353\n",
      "[7]\tvalidation_0-auc:0.99471\n",
      "[8]\tvalidation_0-auc:0.99461\n",
      "[9]\tvalidation_0-auc:0.99456\n",
      "[10]\tvalidation_0-auc:0.99438\n",
      "[11]\tvalidation_0-auc:0.99621\n",
      "[12]\tvalidation_0-auc:0.99667\n",
      "[13]\tvalidation_0-auc:0.99665\n",
      "[14]\tvalidation_0-auc:0.99698\n",
      "[15]\tvalidation_0-auc:0.99712\n",
      "[16]\tvalidation_0-auc:0.99745\n",
      "[17]\tvalidation_0-auc:0.99740\n",
      "[18]\tvalidation_0-auc:0.99730\n",
      "[19]\tvalidation_0-auc:0.99746\n",
      "[20]\tvalidation_0-auc:0.99756\n",
      "[21]\tvalidation_0-auc:0.99762\n",
      "[22]\tvalidation_0-auc:0.99749\n",
      "[23]\tvalidation_0-auc:0.99727\n",
      "[24]\tvalidation_0-auc:0.99733\n",
      "[25]\tvalidation_0-auc:0.99730\n",
      "[26]\tvalidation_0-auc:0.99717\n",
      "[27]\tvalidation_0-auc:0.99726\n",
      "[28]\tvalidation_0-auc:0.99728\n",
      "[29]\tvalidation_0-auc:0.99717\n",
      "[30]\tvalidation_0-auc:0.99704\n",
      "9L_departure 1 0.9976227333038479\n"
     ]
    },
    {
     "name": "stderr",
     "output_type": "stream",
     "text": [
      "/Users/spencer/opt/anaconda3/envs/nasa-comp/lib/python3.8/site-packages/xgboost/sklearn.py:1224: UserWarning: The use of label encoder in XGBClassifier is deprecated and will be removed in a future release. To remove this warning, do the following: 1) Pass option use_label_encoder=False when constructing XGBClassifier object; and 2) Encode your labels (y) as integers starting with 0, i.e. 0, 1, 2, ..., [num_class - 1].\n",
      "  warnings.warn(label_encoder_deprecation_msg, UserWarning)\n",
      "/Users/spencer/opt/anaconda3/envs/nasa-comp/lib/python3.8/site-packages/xgboost/data.py:262: FutureWarning: pandas.Int64Index is deprecated and will be removed from pandas in a future version. Use pandas.Index with the appropriate dtype instead.\n",
      "  elif isinstance(data.columns, (pd.Int64Index, pd.RangeIndex)):\n"
     ]
    },
    {
     "name": "stdout",
     "output_type": "stream",
     "text": [
      "[0]\tvalidation_0-auc:0.91656\n",
      "[1]\tvalidation_0-auc:0.91656\n",
      "[2]\tvalidation_0-auc:0.91656\n",
      "[3]\tvalidation_0-auc:0.91656\n",
      "[4]\tvalidation_0-auc:0.91656\n",
      "[5]\tvalidation_0-auc:0.91636\n",
      "[6]\tvalidation_0-auc:0.91542\n",
      "[7]\tvalidation_0-auc:0.91335\n",
      "[8]\tvalidation_0-auc:0.91252\n",
      "[9]\tvalidation_0-auc:0.90931\n",
      "[10]\tvalidation_0-auc:0.90775\n",
      "26R_departure 1 0.9165630182421227\n"
     ]
    },
    {
     "name": "stderr",
     "output_type": "stream",
     "text": [
      "/Users/spencer/opt/anaconda3/envs/nasa-comp/lib/python3.8/site-packages/xgboost/sklearn.py:1224: UserWarning: The use of label encoder in XGBClassifier is deprecated and will be removed in a future release. To remove this warning, do the following: 1) Pass option use_label_encoder=False when constructing XGBClassifier object; and 2) Encode your labels (y) as integers starting with 0, i.e. 0, 1, 2, ..., [num_class - 1].\n",
      "  warnings.warn(label_encoder_deprecation_msg, UserWarning)\n",
      "/Users/spencer/opt/anaconda3/envs/nasa-comp/lib/python3.8/site-packages/xgboost/data.py:262: FutureWarning: pandas.Int64Index is deprecated and will be removed from pandas in a future version. Use pandas.Index with the appropriate dtype instead.\n",
      "  elif isinstance(data.columns, (pd.Int64Index, pd.RangeIndex)):\n"
     ]
    },
    {
     "name": "stdout",
     "output_type": "stream",
     "text": [
      "[0]\tvalidation_0-auc:0.97951\n",
      "[1]\tvalidation_0-auc:0.97965\n",
      "[2]\tvalidation_0-auc:0.97975\n",
      "[3]\tvalidation_0-auc:0.98008\n",
      "[4]\tvalidation_0-auc:0.98005\n",
      "[5]\tvalidation_0-auc:0.97992\n",
      "[6]\tvalidation_0-auc:0.98015\n",
      "[7]\tvalidation_0-auc:0.98010\n",
      "[8]\tvalidation_0-auc:0.97997\n",
      "[9]\tvalidation_0-auc:0.98900\n",
      "[10]\tvalidation_0-auc:0.98910\n",
      "[11]\tvalidation_0-auc:0.98872\n",
      "[12]\tvalidation_0-auc:0.99398\n",
      "[13]\tvalidation_0-auc:0.99366\n",
      "[14]\tvalidation_0-auc:0.99308\n",
      "[15]\tvalidation_0-auc:0.99171\n",
      "[16]\tvalidation_0-auc:0.99138\n",
      "[17]\tvalidation_0-auc:0.99572\n",
      "[18]\tvalidation_0-auc:0.99513\n",
      "[19]\tvalidation_0-auc:0.99484\n",
      "[20]\tvalidation_0-auc:0.99427\n",
      "[21]\tvalidation_0-auc:0.99335\n",
      "[22]\tvalidation_0-auc:0.99387\n",
      "[23]\tvalidation_0-auc:0.99350\n",
      "[24]\tvalidation_0-auc:0.99265\n",
      "[25]\tvalidation_0-auc:0.99252\n",
      "[26]\tvalidation_0-auc:0.99235\n",
      "[27]\tvalidation_0-auc:0.99157\n",
      "26L_arrival 1 0.995725430572518\n"
     ]
    },
    {
     "name": "stderr",
     "output_type": "stream",
     "text": [
      "/Users/spencer/opt/anaconda3/envs/nasa-comp/lib/python3.8/site-packages/xgboost/sklearn.py:1224: UserWarning: The use of label encoder in XGBClassifier is deprecated and will be removed in a future release. To remove this warning, do the following: 1) Pass option use_label_encoder=False when constructing XGBClassifier object; and 2) Encode your labels (y) as integers starting with 0, i.e. 0, 1, 2, ..., [num_class - 1].\n",
      "  warnings.warn(label_encoder_deprecation_msg, UserWarning)\n",
      "/Users/spencer/opt/anaconda3/envs/nasa-comp/lib/python3.8/site-packages/xgboost/data.py:262: FutureWarning: pandas.Int64Index is deprecated and will be removed from pandas in a future version. Use pandas.Index with the appropriate dtype instead.\n",
      "  elif isinstance(data.columns, (pd.Int64Index, pd.RangeIndex)):\n"
     ]
    },
    {
     "name": "stdout",
     "output_type": "stream",
     "text": [
      "[0]\tvalidation_0-auc:0.98584\n",
      "[1]\tvalidation_0-auc:0.98709\n",
      "[2]\tvalidation_0-auc:0.98679\n",
      "[3]\tvalidation_0-auc:0.98679\n",
      "[4]\tvalidation_0-auc:0.98713\n",
      "[5]\tvalidation_0-auc:0.98670\n",
      "[6]\tvalidation_0-auc:0.98814\n",
      "[7]\tvalidation_0-auc:0.98793\n",
      "[8]\tvalidation_0-auc:0.98844\n",
      "[9]\tvalidation_0-auc:0.98816\n",
      "[10]\tvalidation_0-auc:0.98776\n",
      "[11]\tvalidation_0-auc:0.98794\n",
      "[12]\tvalidation_0-auc:0.98813\n",
      "[13]\tvalidation_0-auc:0.98768\n",
      "[14]\tvalidation_0-auc:0.98840\n",
      "[15]\tvalidation_0-auc:0.98997\n",
      "[16]\tvalidation_0-auc:0.98996\n",
      "[17]\tvalidation_0-auc:0.99097\n",
      "[18]\tvalidation_0-auc:0.99178\n",
      "[19]\tvalidation_0-auc:0.99202\n",
      "[20]\tvalidation_0-auc:0.99225\n",
      "[21]\tvalidation_0-auc:0.99259\n",
      "[22]\tvalidation_0-auc:0.99214\n",
      "[23]\tvalidation_0-auc:0.99235\n",
      "[24]\tvalidation_0-auc:0.99250\n",
      "[25]\tvalidation_0-auc:0.99255\n",
      "[26]\tvalidation_0-auc:0.99252\n",
      "[27]\tvalidation_0-auc:0.99250\n",
      "[28]\tvalidation_0-auc:0.99268\n",
      "[29]\tvalidation_0-auc:0.99299\n",
      "[30]\tvalidation_0-auc:0.99311\n",
      "[31]\tvalidation_0-auc:0.99304\n",
      "[32]\tvalidation_0-auc:0.99314\n",
      "[33]\tvalidation_0-auc:0.99322\n",
      "[34]\tvalidation_0-auc:0.99338\n",
      "[35]\tvalidation_0-auc:0.99333\n",
      "[36]\tvalidation_0-auc:0.99333\n",
      "[37]\tvalidation_0-auc:0.99338\n",
      "[38]\tvalidation_0-auc:0.99356\n",
      "[39]\tvalidation_0-auc:0.99369\n",
      "[40]\tvalidation_0-auc:0.99369\n",
      "[41]\tvalidation_0-auc:0.99358\n",
      "[42]\tvalidation_0-auc:0.99342\n",
      "[43]\tvalidation_0-auc:0.99343\n",
      "[44]\tvalidation_0-auc:0.99330\n",
      "[45]\tvalidation_0-auc:0.99335\n",
      "[46]\tvalidation_0-auc:0.99314\n",
      "[47]\tvalidation_0-auc:0.99306\n",
      "[48]\tvalidation_0-auc:0.99309\n",
      "[49]\tvalidation_0-auc:0.99309\n",
      "28_arrival 1 0.9936948873760679\n"
     ]
    },
    {
     "name": "stderr",
     "output_type": "stream",
     "text": [
      "/Users/spencer/opt/anaconda3/envs/nasa-comp/lib/python3.8/site-packages/xgboost/sklearn.py:1224: UserWarning: The use of label encoder in XGBClassifier is deprecated and will be removed in a future release. To remove this warning, do the following: 1) Pass option use_label_encoder=False when constructing XGBClassifier object; and 2) Encode your labels (y) as integers starting with 0, i.e. 0, 1, 2, ..., [num_class - 1].\n",
      "  warnings.warn(label_encoder_deprecation_msg, UserWarning)\n",
      "/Users/spencer/opt/anaconda3/envs/nasa-comp/lib/python3.8/site-packages/xgboost/data.py:262: FutureWarning: pandas.Int64Index is deprecated and will be removed from pandas in a future version. Use pandas.Index with the appropriate dtype instead.\n",
      "  elif isinstance(data.columns, (pd.Int64Index, pd.RangeIndex)):\n"
     ]
    },
    {
     "name": "stdout",
     "output_type": "stream",
     "text": [
      "[0]\tvalidation_0-auc:0.99028\n",
      "[1]\tvalidation_0-auc:0.99034\n",
      "[2]\tvalidation_0-auc:0.99085\n",
      "[3]\tvalidation_0-auc:0.99063\n",
      "[4]\tvalidation_0-auc:0.99032\n",
      "[5]\tvalidation_0-auc:0.99042\n",
      "[6]\tvalidation_0-auc:0.99229\n",
      "[7]\tvalidation_0-auc:0.99228\n",
      "[8]\tvalidation_0-auc:0.99424\n",
      "[9]\tvalidation_0-auc:0.99475\n",
      "[10]\tvalidation_0-auc:0.99543\n",
      "[11]\tvalidation_0-auc:0.99579\n",
      "[12]\tvalidation_0-auc:0.99551\n",
      "[13]\tvalidation_0-auc:0.99530\n",
      "[14]\tvalidation_0-auc:0.99475\n",
      "[15]\tvalidation_0-auc:0.99445\n",
      "[16]\tvalidation_0-auc:0.99421\n",
      "[17]\tvalidation_0-auc:0.99409\n",
      "[18]\tvalidation_0-auc:0.99390\n",
      "[19]\tvalidation_0-auc:0.99415\n",
      "[20]\tvalidation_0-auc:0.99391\n",
      "27L_arrival 1 0.9957858499525166\n"
     ]
    },
    {
     "name": "stderr",
     "output_type": "stream",
     "text": [
      "/Users/spencer/opt/anaconda3/envs/nasa-comp/lib/python3.8/site-packages/xgboost/sklearn.py:1224: UserWarning: The use of label encoder in XGBClassifier is deprecated and will be removed in a future release. To remove this warning, do the following: 1) Pass option use_label_encoder=False when constructing XGBClassifier object; and 2) Encode your labels (y) as integers starting with 0, i.e. 0, 1, 2, ..., [num_class - 1].\n",
      "  warnings.warn(label_encoder_deprecation_msg, UserWarning)\n",
      "/Users/spencer/opt/anaconda3/envs/nasa-comp/lib/python3.8/site-packages/xgboost/data.py:262: FutureWarning: pandas.Int64Index is deprecated and will be removed from pandas in a future version. Use pandas.Index with the appropriate dtype instead.\n",
      "  elif isinstance(data.columns, (pd.Int64Index, pd.RangeIndex)):\n"
     ]
    },
    {
     "name": "stdout",
     "output_type": "stream",
     "text": [
      "[0]\tvalidation_0-auc:0.90824\n",
      "[1]\tvalidation_0-auc:0.90852\n",
      "[2]\tvalidation_0-auc:0.90852\n",
      "[3]\tvalidation_0-auc:0.90852\n",
      "[4]\tvalidation_0-auc:0.90761\n",
      "[5]\tvalidation_0-auc:0.90790\n",
      "[6]\tvalidation_0-auc:0.94550\n",
      "[7]\tvalidation_0-auc:0.94550\n",
      "[8]\tvalidation_0-auc:0.94510\n",
      "[9]\tvalidation_0-auc:0.94254\n",
      "[10]\tvalidation_0-auc:0.94061\n",
      "[11]\tvalidation_0-auc:0.94066\n",
      "[12]\tvalidation_0-auc:0.93492\n",
      "[13]\tvalidation_0-auc:0.93390\n",
      "[14]\tvalidation_0-auc:0.96535\n",
      "[15]\tvalidation_0-auc:0.97190\n",
      "[16]\tvalidation_0-auc:0.95631\n",
      "[17]\tvalidation_0-auc:0.95529\n",
      "[18]\tvalidation_0-auc:0.96996\n",
      "[19]\tvalidation_0-auc:0.96609\n",
      "[20]\tvalidation_0-auc:0.98487\n",
      "[21]\tvalidation_0-auc:0.98179\n",
      "[22]\tvalidation_0-auc:0.98691\n",
      "[23]\tvalidation_0-auc:0.98350\n",
      "[24]\tvalidation_0-auc:0.98191\n",
      "[25]\tvalidation_0-auc:0.98191\n",
      "[26]\tvalidation_0-auc:0.98191\n",
      "[27]\tvalidation_0-auc:0.98043\n",
      "[28]\tvalidation_0-auc:0.97906\n",
      "[29]\tvalidation_0-auc:0.97850\n",
      "[30]\tvalidation_0-auc:0.97622\n",
      "[31]\tvalidation_0-auc:0.97429\n",
      "8R_arrival 1 0.9869154625099557\n"
     ]
    },
    {
     "name": "stderr",
     "output_type": "stream",
     "text": [
      "/Users/spencer/opt/anaconda3/envs/nasa-comp/lib/python3.8/site-packages/xgboost/sklearn.py:1224: UserWarning: The use of label encoder in XGBClassifier is deprecated and will be removed in a future release. To remove this warning, do the following: 1) Pass option use_label_encoder=False when constructing XGBClassifier object; and 2) Encode your labels (y) as integers starting with 0, i.e. 0, 1, 2, ..., [num_class - 1].\n",
      "  warnings.warn(label_encoder_deprecation_msg, UserWarning)\n",
      "/Users/spencer/opt/anaconda3/envs/nasa-comp/lib/python3.8/site-packages/xgboost/data.py:262: FutureWarning: pandas.Int64Index is deprecated and will be removed from pandas in a future version. Use pandas.Index with the appropriate dtype instead.\n",
      "  elif isinstance(data.columns, (pd.Int64Index, pd.RangeIndex)):\n"
     ]
    },
    {
     "name": "stdout",
     "output_type": "stream",
     "text": [
      "[0]\tvalidation_0-auc:0.99099\n",
      "[1]\tvalidation_0-auc:0.99268\n",
      "[2]\tvalidation_0-auc:0.99334\n",
      "[3]\tvalidation_0-auc:0.99327\n",
      "[4]\tvalidation_0-auc:0.99306\n",
      "[5]\tvalidation_0-auc:0.99420\n",
      "[6]\tvalidation_0-auc:0.99500\n",
      "[7]\tvalidation_0-auc:0.99491\n",
      "[8]\tvalidation_0-auc:0.99524\n",
      "[9]\tvalidation_0-auc:0.99516\n",
      "[10]\tvalidation_0-auc:0.99506\n",
      "[11]\tvalidation_0-auc:0.99499\n",
      "[12]\tvalidation_0-auc:0.99481\n",
      "[13]\tvalidation_0-auc:0.99606\n",
      "[14]\tvalidation_0-auc:0.99638\n",
      "[15]\tvalidation_0-auc:0.99669\n",
      "[16]\tvalidation_0-auc:0.99671\n",
      "[17]\tvalidation_0-auc:0.99663\n",
      "[18]\tvalidation_0-auc:0.99638\n",
      "[19]\tvalidation_0-auc:0.99657\n",
      "[20]\tvalidation_0-auc:0.99656\n",
      "[21]\tvalidation_0-auc:0.99659\n",
      "[22]\tvalidation_0-auc:0.99665\n",
      "[23]\tvalidation_0-auc:0.99648\n",
      "[24]\tvalidation_0-auc:0.99650\n",
      "[25]\tvalidation_0-auc:0.99662\n",
      "8L_arrival 1 0.9967144394720444\n"
     ]
    },
    {
     "name": "stderr",
     "output_type": "stream",
     "text": [
      "/Users/spencer/opt/anaconda3/envs/nasa-comp/lib/python3.8/site-packages/xgboost/sklearn.py:1224: UserWarning: The use of label encoder in XGBClassifier is deprecated and will be removed in a future release. To remove this warning, do the following: 1) Pass option use_label_encoder=False when constructing XGBClassifier object; and 2) Encode your labels (y) as integers starting with 0, i.e. 0, 1, 2, ..., [num_class - 1].\n",
      "  warnings.warn(label_encoder_deprecation_msg, UserWarning)\n",
      "/Users/spencer/opt/anaconda3/envs/nasa-comp/lib/python3.8/site-packages/xgboost/data.py:262: FutureWarning: pandas.Int64Index is deprecated and will be removed from pandas in a future version. Use pandas.Index with the appropriate dtype instead.\n",
      "  elif isinstance(data.columns, (pd.Int64Index, pd.RangeIndex)):\n"
     ]
    },
    {
     "name": "stdout",
     "output_type": "stream",
     "text": [
      "[0]\tvalidation_0-auc:0.99120\n",
      "[1]\tvalidation_0-auc:0.99105\n",
      "[2]\tvalidation_0-auc:0.99262\n",
      "[3]\tvalidation_0-auc:0.99442\n",
      "[4]\tvalidation_0-auc:0.99464\n",
      "[5]\tvalidation_0-auc:0.99470\n",
      "[6]\tvalidation_0-auc:0.99548\n",
      "[7]\tvalidation_0-auc:0.99542\n",
      "[8]\tvalidation_0-auc:0.99518\n",
      "[9]\tvalidation_0-auc:0.99518\n",
      "[10]\tvalidation_0-auc:0.99484\n",
      "[11]\tvalidation_0-auc:0.99512\n",
      "[12]\tvalidation_0-auc:0.99681\n",
      "[13]\tvalidation_0-auc:0.99677\n",
      "[14]\tvalidation_0-auc:0.99665\n",
      "[15]\tvalidation_0-auc:0.99683\n",
      "[16]\tvalidation_0-auc:0.99670\n",
      "[17]\tvalidation_0-auc:0.99637\n"
     ]
    }
   ],
   "source": [
    "train_submodels()"
   ]
  },
  {
   "cell_type": "markdown",
   "id": "6d68e954",
   "metadata": {},
   "source": [
    "# Run the Bridge Pipeline"
   ]
  },
  {
   "cell_type": "code",
   "execution_count": 4,
   "id": "cd280808",
   "metadata": {
    "scrolled": false
   },
   "outputs": [
    {
     "name": "stderr",
     "output_type": "stream",
     "text": [
      "/Users/spencer/opt/anaconda3/envs/nasa-comp/lib/python3.8/site-packages/xgboost/data.py:262: FutureWarning: pandas.Int64Index is deprecated and will be removed from pandas in a future version. Use pandas.Index with the appropriate dtype instead.\n",
      "  elif isinstance(data.columns, (pd.Int64Index, pd.RangeIndex)):\n",
      "/Users/spencer/opt/anaconda3/envs/nasa-comp/lib/python3.8/site-packages/xgboost/data.py:262: FutureWarning: pandas.Int64Index is deprecated and will be removed from pandas in a future version. Use pandas.Index with the appropriate dtype instead.\n",
      "  elif isinstance(data.columns, (pd.Int64Index, pd.RangeIndex)):\n",
      "/Users/spencer/opt/anaconda3/envs/nasa-comp/lib/python3.8/site-packages/xgboost/data.py:262: FutureWarning: pandas.Int64Index is deprecated and will be removed from pandas in a future version. Use pandas.Index with the appropriate dtype instead.\n",
      "  elif isinstance(data.columns, (pd.Int64Index, pd.RangeIndex)):\n"
     ]
    },
    {
     "name": "stdout",
     "output_type": "stream",
     "text": [
      "\n",
      "----------------------------------------------------------------------------------------------------\n",
      "\n",
      "Finished Airport: katl\n",
      "\n",
      "----------------------------------------------------------------------------------------------------\n",
      "\n"
     ]
    },
    {
     "name": "stderr",
     "output_type": "stream",
     "text": [
      "/Users/spencer/opt/anaconda3/envs/nasa-comp/lib/python3.8/site-packages/xgboost/data.py:262: FutureWarning: pandas.Int64Index is deprecated and will be removed from pandas in a future version. Use pandas.Index with the appropriate dtype instead.\n",
      "  elif isinstance(data.columns, (pd.Int64Index, pd.RangeIndex)):\n",
      "/Users/spencer/opt/anaconda3/envs/nasa-comp/lib/python3.8/site-packages/xgboost/data.py:262: FutureWarning: pandas.Int64Index is deprecated and will be removed from pandas in a future version. Use pandas.Index with the appropriate dtype instead.\n",
      "  elif isinstance(data.columns, (pd.Int64Index, pd.RangeIndex)):\n",
      "/Users/spencer/opt/anaconda3/envs/nasa-comp/lib/python3.8/site-packages/xgboost/data.py:262: FutureWarning: pandas.Int64Index is deprecated and will be removed from pandas in a future version. Use pandas.Index with the appropriate dtype instead.\n",
      "  elif isinstance(data.columns, (pd.Int64Index, pd.RangeIndex)):\n"
     ]
    },
    {
     "name": "stdout",
     "output_type": "stream",
     "text": [
      "\n",
      "----------------------------------------------------------------------------------------------------\n",
      "\n",
      "Finished Airport: kclt\n",
      "\n",
      "----------------------------------------------------------------------------------------------------\n",
      "\n"
     ]
    },
    {
     "name": "stderr",
     "output_type": "stream",
     "text": [
      "/Users/spencer/opt/anaconda3/envs/nasa-comp/lib/python3.8/site-packages/xgboost/data.py:262: FutureWarning: pandas.Int64Index is deprecated and will be removed from pandas in a future version. Use pandas.Index with the appropriate dtype instead.\n",
      "  elif isinstance(data.columns, (pd.Int64Index, pd.RangeIndex)):\n",
      "/Users/spencer/opt/anaconda3/envs/nasa-comp/lib/python3.8/site-packages/xgboost/data.py:262: FutureWarning: pandas.Int64Index is deprecated and will be removed from pandas in a future version. Use pandas.Index with the appropriate dtype instead.\n",
      "  elif isinstance(data.columns, (pd.Int64Index, pd.RangeIndex)):\n",
      "/Users/spencer/opt/anaconda3/envs/nasa-comp/lib/python3.8/site-packages/xgboost/data.py:262: FutureWarning: pandas.Int64Index is deprecated and will be removed from pandas in a future version. Use pandas.Index with the appropriate dtype instead.\n",
      "  elif isinstance(data.columns, (pd.Int64Index, pd.RangeIndex)):\n"
     ]
    },
    {
     "name": "stdout",
     "output_type": "stream",
     "text": [
      "\n",
      "----------------------------------------------------------------------------------------------------\n",
      "\n",
      "Finished Airport: kden\n",
      "\n",
      "----------------------------------------------------------------------------------------------------\n",
      "\n"
     ]
    },
    {
     "name": "stderr",
     "output_type": "stream",
     "text": [
      "/Users/spencer/opt/anaconda3/envs/nasa-comp/lib/python3.8/site-packages/xgboost/data.py:262: FutureWarning: pandas.Int64Index is deprecated and will be removed from pandas in a future version. Use pandas.Index with the appropriate dtype instead.\n",
      "  elif isinstance(data.columns, (pd.Int64Index, pd.RangeIndex)):\n",
      "/Users/spencer/opt/anaconda3/envs/nasa-comp/lib/python3.8/site-packages/xgboost/data.py:262: FutureWarning: pandas.Int64Index is deprecated and will be removed from pandas in a future version. Use pandas.Index with the appropriate dtype instead.\n",
      "  elif isinstance(data.columns, (pd.Int64Index, pd.RangeIndex)):\n",
      "/Users/spencer/opt/anaconda3/envs/nasa-comp/lib/python3.8/site-packages/xgboost/data.py:262: FutureWarning: pandas.Int64Index is deprecated and will be removed from pandas in a future version. Use pandas.Index with the appropriate dtype instead.\n",
      "  elif isinstance(data.columns, (pd.Int64Index, pd.RangeIndex)):\n"
     ]
    },
    {
     "name": "stdout",
     "output_type": "stream",
     "text": [
      "\n",
      "----------------------------------------------------------------------------------------------------\n",
      "\n",
      "Finished Airport: kdfw\n",
      "\n",
      "----------------------------------------------------------------------------------------------------\n",
      "\n"
     ]
    },
    {
     "name": "stderr",
     "output_type": "stream",
     "text": [
      "/Users/spencer/opt/anaconda3/envs/nasa-comp/lib/python3.8/site-packages/xgboost/data.py:262: FutureWarning: pandas.Int64Index is deprecated and will be removed from pandas in a future version. Use pandas.Index with the appropriate dtype instead.\n",
      "  elif isinstance(data.columns, (pd.Int64Index, pd.RangeIndex)):\n",
      "/Users/spencer/opt/anaconda3/envs/nasa-comp/lib/python3.8/site-packages/xgboost/data.py:262: FutureWarning: pandas.Int64Index is deprecated and will be removed from pandas in a future version. Use pandas.Index with the appropriate dtype instead.\n",
      "  elif isinstance(data.columns, (pd.Int64Index, pd.RangeIndex)):\n",
      "/Users/spencer/opt/anaconda3/envs/nasa-comp/lib/python3.8/site-packages/xgboost/data.py:262: FutureWarning: pandas.Int64Index is deprecated and will be removed from pandas in a future version. Use pandas.Index with the appropriate dtype instead.\n",
      "  elif isinstance(data.columns, (pd.Int64Index, pd.RangeIndex)):\n"
     ]
    },
    {
     "name": "stdout",
     "output_type": "stream",
     "text": [
      "\n",
      "----------------------------------------------------------------------------------------------------\n",
      "\n",
      "Finished Airport: kjfk\n",
      "\n",
      "----------------------------------------------------------------------------------------------------\n",
      "\n"
     ]
    },
    {
     "name": "stderr",
     "output_type": "stream",
     "text": [
      "/Users/spencer/opt/anaconda3/envs/nasa-comp/lib/python3.8/site-packages/xgboost/data.py:262: FutureWarning: pandas.Int64Index is deprecated and will be removed from pandas in a future version. Use pandas.Index with the appropriate dtype instead.\n",
      "  elif isinstance(data.columns, (pd.Int64Index, pd.RangeIndex)):\n",
      "/Users/spencer/opt/anaconda3/envs/nasa-comp/lib/python3.8/site-packages/xgboost/data.py:262: FutureWarning: pandas.Int64Index is deprecated and will be removed from pandas in a future version. Use pandas.Index with the appropriate dtype instead.\n",
      "  elif isinstance(data.columns, (pd.Int64Index, pd.RangeIndex)):\n",
      "/Users/spencer/opt/anaconda3/envs/nasa-comp/lib/python3.8/site-packages/xgboost/data.py:262: FutureWarning: pandas.Int64Index is deprecated and will be removed from pandas in a future version. Use pandas.Index with the appropriate dtype instead.\n",
      "  elif isinstance(data.columns, (pd.Int64Index, pd.RangeIndex)):\n"
     ]
    },
    {
     "name": "stdout",
     "output_type": "stream",
     "text": [
      "\n",
      "----------------------------------------------------------------------------------------------------\n",
      "\n",
      "Finished Airport: kmem\n",
      "\n",
      "----------------------------------------------------------------------------------------------------\n",
      "\n"
     ]
    },
    {
     "name": "stderr",
     "output_type": "stream",
     "text": [
      "/Users/spencer/opt/anaconda3/envs/nasa-comp/lib/python3.8/site-packages/xgboost/data.py:262: FutureWarning: pandas.Int64Index is deprecated and will be removed from pandas in a future version. Use pandas.Index with the appropriate dtype instead.\n",
      "  elif isinstance(data.columns, (pd.Int64Index, pd.RangeIndex)):\n",
      "/Users/spencer/opt/anaconda3/envs/nasa-comp/lib/python3.8/site-packages/xgboost/data.py:262: FutureWarning: pandas.Int64Index is deprecated and will be removed from pandas in a future version. Use pandas.Index with the appropriate dtype instead.\n",
      "  elif isinstance(data.columns, (pd.Int64Index, pd.RangeIndex)):\n",
      "/Users/spencer/opt/anaconda3/envs/nasa-comp/lib/python3.8/site-packages/xgboost/data.py:262: FutureWarning: pandas.Int64Index is deprecated and will be removed from pandas in a future version. Use pandas.Index with the appropriate dtype instead.\n",
      "  elif isinstance(data.columns, (pd.Int64Index, pd.RangeIndex)):\n"
     ]
    },
    {
     "name": "stdout",
     "output_type": "stream",
     "text": [
      "\n",
      "----------------------------------------------------------------------------------------------------\n",
      "\n",
      "Finished Airport: kmia\n",
      "\n",
      "----------------------------------------------------------------------------------------------------\n",
      "\n"
     ]
    },
    {
     "name": "stderr",
     "output_type": "stream",
     "text": [
      "/Users/spencer/opt/anaconda3/envs/nasa-comp/lib/python3.8/site-packages/xgboost/data.py:262: FutureWarning: pandas.Int64Index is deprecated and will be removed from pandas in a future version. Use pandas.Index with the appropriate dtype instead.\n",
      "  elif isinstance(data.columns, (pd.Int64Index, pd.RangeIndex)):\n",
      "/Users/spencer/opt/anaconda3/envs/nasa-comp/lib/python3.8/site-packages/xgboost/data.py:262: FutureWarning: pandas.Int64Index is deprecated and will be removed from pandas in a future version. Use pandas.Index with the appropriate dtype instead.\n",
      "  elif isinstance(data.columns, (pd.Int64Index, pd.RangeIndex)):\n",
      "/Users/spencer/opt/anaconda3/envs/nasa-comp/lib/python3.8/site-packages/xgboost/data.py:262: FutureWarning: pandas.Int64Index is deprecated and will be removed from pandas in a future version. Use pandas.Index with the appropriate dtype instead.\n",
      "  elif isinstance(data.columns, (pd.Int64Index, pd.RangeIndex)):\n"
     ]
    },
    {
     "name": "stdout",
     "output_type": "stream",
     "text": [
      "\n",
      "----------------------------------------------------------------------------------------------------\n",
      "\n",
      "Finished Airport: kord\n",
      "\n",
      "----------------------------------------------------------------------------------------------------\n",
      "\n"
     ]
    },
    {
     "name": "stderr",
     "output_type": "stream",
     "text": [
      "/Users/spencer/opt/anaconda3/envs/nasa-comp/lib/python3.8/site-packages/xgboost/data.py:262: FutureWarning: pandas.Int64Index is deprecated and will be removed from pandas in a future version. Use pandas.Index with the appropriate dtype instead.\n",
      "  elif isinstance(data.columns, (pd.Int64Index, pd.RangeIndex)):\n",
      "/Users/spencer/opt/anaconda3/envs/nasa-comp/lib/python3.8/site-packages/xgboost/data.py:262: FutureWarning: pandas.Int64Index is deprecated and will be removed from pandas in a future version. Use pandas.Index with the appropriate dtype instead.\n",
      "  elif isinstance(data.columns, (pd.Int64Index, pd.RangeIndex)):\n",
      "/Users/spencer/opt/anaconda3/envs/nasa-comp/lib/python3.8/site-packages/xgboost/data.py:262: FutureWarning: pandas.Int64Index is deprecated and will be removed from pandas in a future version. Use pandas.Index with the appropriate dtype instead.\n",
      "  elif isinstance(data.columns, (pd.Int64Index, pd.RangeIndex)):\n"
     ]
    },
    {
     "name": "stdout",
     "output_type": "stream",
     "text": [
      "\n",
      "----------------------------------------------------------------------------------------------------\n",
      "\n",
      "Finished Airport: kphx\n",
      "\n",
      "----------------------------------------------------------------------------------------------------\n",
      "\n"
     ]
    },
    {
     "name": "stderr",
     "output_type": "stream",
     "text": [
      "/Users/spencer/opt/anaconda3/envs/nasa-comp/lib/python3.8/site-packages/xgboost/data.py:262: FutureWarning: pandas.Int64Index is deprecated and will be removed from pandas in a future version. Use pandas.Index with the appropriate dtype instead.\n",
      "  elif isinstance(data.columns, (pd.Int64Index, pd.RangeIndex)):\n",
      "/Users/spencer/opt/anaconda3/envs/nasa-comp/lib/python3.8/site-packages/xgboost/data.py:262: FutureWarning: pandas.Int64Index is deprecated and will be removed from pandas in a future version. Use pandas.Index with the appropriate dtype instead.\n",
      "  elif isinstance(data.columns, (pd.Int64Index, pd.RangeIndex)):\n",
      "/Users/spencer/opt/anaconda3/envs/nasa-comp/lib/python3.8/site-packages/xgboost/data.py:262: FutureWarning: pandas.Int64Index is deprecated and will be removed from pandas in a future version. Use pandas.Index with the appropriate dtype instead.\n",
      "  elif isinstance(data.columns, (pd.Int64Index, pd.RangeIndex)):\n"
     ]
    },
    {
     "name": "stdout",
     "output_type": "stream",
     "text": [
      "\n",
      "----------------------------------------------------------------------------------------------------\n",
      "\n",
      "Finished Airport: ksea\n",
      "\n",
      "----------------------------------------------------------------------------------------------------\n",
      "\n"
     ]
    }
   ],
   "source": [
    "run_bridge_pipeline()"
   ]
  },
  {
   "cell_type": "markdown",
   "id": "67439010",
   "metadata": {},
   "source": [
    "# Train Final Model"
   ]
  },
  {
   "cell_type": "code",
   "execution_count": null,
   "id": "936bd876",
   "metadata": {
    "scrolled": false
   },
   "outputs": [],
   "source": [
    "train_final_model(MCS=False)"
   ]
  }
 ],
 "metadata": {
  "kernelspec": {
   "display_name": "Python 3 (ipykernel)",
   "language": "python",
   "name": "python3"
  },
  "language_info": {
   "codemirror_mode": {
    "name": "ipython",
    "version": 3
   },
   "file_extension": ".py",
   "mimetype": "text/x-python",
   "name": "python",
   "nbconvert_exporter": "python",
   "pygments_lexer": "ipython3",
   "version": "3.8.15"
  }
 },
 "nbformat": 4,
 "nbformat_minor": 5
}
