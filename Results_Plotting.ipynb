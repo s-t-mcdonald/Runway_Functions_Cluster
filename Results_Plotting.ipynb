{
 "cells": [
  {
   "cell_type": "code",
   "execution_count": 1,
   "id": "eb7e880c",
   "metadata": {},
   "outputs": [],
   "source": [
    "import seaborn as sns\n",
    "import pandas as pd\n",
    "import numpy as np\n",
    "\n",
    "from sklearn.metrics import accuracy_score, f1_score, log_loss"
   ]
  },
  {
   "cell_type": "code",
   "execution_count": 2,
   "id": "d7c993d6",
   "metadata": {},
   "outputs": [],
   "source": [
    "param_array = pd.read_csv(\"parameters/parameter_array.csv\").set_index(\"PARAM\")"
   ]
  },
  {
   "cell_type": "code",
   "execution_count": 3,
   "id": "1cf354db",
   "metadata": {},
   "outputs": [],
   "source": [
    "Train_Loss = []\n",
    "Val_Loss = []\n",
    "Test_Loss = []\n",
    "\n",
    "Train_Acc = []\n",
    "Val_Acc = []\n",
    "Test_Acc = []\n",
    "\n",
    "Train_F1 = []\n",
    "Val_F1 = []\n",
    "Test_F1 = []\n",
    "for param in param_array.index:\n",
    "    \n",
    "    try:\n",
    "        y_train = np.genfromtxt(f\"Results/Result_{param}/y_train_truth.csv\", delimiter=',')\n",
    "        y_val = np.genfromtxt(f\"Results/Result_{param}/y_val_truth.csv\", delimiter=',')\n",
    "        y_test = np.genfromtxt(f\"Results/Result_{param}/y_test_truth.csv\", delimiter=',')\n",
    "\n",
    "        train_pred = np.genfromtxt(f\"Results/Result_{param}/y_train_pred.csv\", delimiter=',')\n",
    "        val_pred = np.genfromtxt(f\"Results/Result_{param}/y_val_pred.csv\", delimiter=',')\n",
    "        test_pred = np.genfromtxt(f\"Results/Result_{param}/y_test_pred.csv\", delimiter=',')\n",
    "\n",
    "        train_loss = log_loss(y_train.flatten(), train_pred.flatten())\n",
    "        val_loss = log_loss(y_val.flatten(), val_pred.flatten())\n",
    "        test_loss = log_loss(y_test.flatten(), test_pred.flatten())\n",
    "\n",
    "        train_accuracy = accuracy_score(np.argmax(y_train,axis=1), np.argmax(train_pred,axis=1))\n",
    "        val_accuracy = accuracy_score(np.argmax(y_val,axis=1), np.argmax(val_pred,axis=1))\n",
    "        test_accuracy = accuracy_score(np.argmax(y_test,axis=1), np.argmax(test_pred,axis=1))\n",
    "\n",
    "        train_f1 = f1_score(np.argmax(y_train,axis=1), np.argmax(train_pred,axis=1), average='weighted')\n",
    "        val_f1 = f1_score(np.argmax(y_val,axis=1), np.argmax(val_pred,axis=1), average='weighted')\n",
    "        test_f1 = f1_score(np.argmax(y_test,axis=1), np.argmax(test_pred,axis=1), average='weighted')\n",
    "        \n",
    "    except:\n",
    "        \n",
    "        train_loss = np.nan\n",
    "        val_loss = np.nan\n",
    "        test_loss = np.nan\n",
    "\n",
    "        train_accuracy = np.nan\n",
    "        val_accuracy = np.nan\n",
    "        test_accuracy = np.nan\n",
    "\n",
    "        train_f1 = np.nan\n",
    "        val_f1 = np.nan\n",
    "        test_f1 = np.nan\n",
    "        \n",
    "    Train_Loss.append(train_loss)\n",
    "    Val_Loss.append(val_loss)\n",
    "    Test_Loss.append(test_loss)\n",
    "\n",
    "    Train_Acc.append(train_accuracy)\n",
    "    Val_Acc.append(val_accuracy)\n",
    "    Test_Acc.append(test_accuracy)\n",
    "\n",
    "    Train_F1.append(train_f1)\n",
    "    Val_F1.append(val_f1)\n",
    "    Test_F1.append(test_f1)\n",
    "    \n",
    "param_array[\"Train_Loss\"] = Train_Loss\n",
    "param_array[\"Val_Loss\"] = Val_Loss\n",
    "param_array[\"Test_Loss\"] = Test_Loss\n",
    "\n",
    "param_array[\"Train_Acc\"] = Train_Acc\n",
    "param_array[\"Val_Acc\"] = Val_Acc\n",
    "param_array[\"Test_Acc\"] = Test_Acc\n",
    "\n",
    "param_array[\"Train_F1\"] = Train_F1\n",
    "param_array[\"Val_F1\"] = Val_F1\n",
    "param_array[\"Test_F1\"] = Test_F1"
   ]
  },
  {
   "cell_type": "code",
   "execution_count": 4,
   "id": "cb7ef7b8",
   "metadata": {},
   "outputs": [
    {
     "data": {
      "text/plain": [
       "CONFIG_SUPPORT  DATA \n",
       "0               PD       0.049044\n",
       "                PD+SM         NaN\n",
       "                SM            NaN\n",
       "1               PD            NaN\n",
       "                PD+SM         NaN\n",
       "                SM            NaN\n",
       "Name: Test_Loss, dtype: float64"
      ]
     },
     "execution_count": 4,
     "metadata": {},
     "output_type": "execute_result"
    }
   ],
   "source": [
    "param_array.groupby([\"CONFIG_SUPPORT\", \"DATA\"]).mean()[\"Test_Loss\"]"
   ]
  }
 ],
 "metadata": {
  "kernelspec": {
   "display_name": "Python [conda env:root] *",
   "language": "python",
   "name": "conda-root-py"
  },
  "language_info": {
   "codemirror_mode": {
    "name": "ipython",
    "version": 3
   },
   "file_extension": ".py",
   "mimetype": "text/x-python",
   "name": "python",
   "nbconvert_exporter": "python",
   "pygments_lexer": "ipython3",
   "version": "3.9.13"
  }
 },
 "nbformat": 4,
 "nbformat_minor": 5
}
